{
 "cells": [
  {
   "cell_type": "markdown",
   "metadata": {},
   "source": [
    "# import package"
   ]
  },
  {
   "cell_type": "code",
   "execution_count": 1,
   "metadata": {},
   "outputs": [],
   "source": [
    "import pandas as pd\n",
    "import json\n",
    "import numpy as np\n",
    "import itertools\n",
    "import collections\n",
    "import tensorflow as tf\n",
    "from ckiptagger import data_utils, construct_dictionary, WS, POS, NER\n",
    "import os\n",
    "from datetime import date\n",
    "from IPython.display import clear_output\n",
    "clear_output()\n",
    "from tqdm import tqdm\n",
    "import sys"
   ]
  },
  {
   "cell_type": "code",
   "execution_count": 2,
   "metadata": {},
   "outputs": [],
   "source": [
    "if __name__ == '__main__':\n",
    "#     FILENAME = \"katino_data_adjust.npy\"\n",
    "#     WORD_TO_WEIGHT = \"dictionary.txt\"\n",
    "#     LIMIT = 1\n",
    "#     CUDA_VISIBLE_DEVICES = \"0\"\n",
    "#     GPU_MEMORY_FRACTION = 0.7\n",
    "    FILENAME =  sys.argv[1]\n",
    "    WORD_TO_WEIGHT = sys.argv[2]\n",
    "    LIMIT = int(sys.argv[3])\n",
    "    CUDA_VISIBLE_DEVICES = str(sys.argv[4])\n",
    "    GPU_MEMORY_FRACTION = float(sys.argv[4])\n",
    "\n",
    "    print(\"set GPU stat...\")\n",
    "    cfg = tf.ConfigProto()\n",
    "    cfg.gpu_options.per_process_gpu_memory_fraction =  GPU_MEMORY_FRACTION ###設定gpu使用量\n",
    "    session = tf.Session(config = cfg)\n",
    "    os.environ[\"CUDA_VISIBLE_DEVICES\"] = CUDA_VISIBLE_DEVICES ###設定gpu編號\n",
    "\n",
    "    print(\"prepare ws pos ner\")\n",
    "    ws = WS(\"./data\", disable_cuda=False)\n",
    "    pos = POS(\"./data\", disable_cuda=False)\n",
    "    ner = NER(\"./data\", disable_cuda=False)\n",
    "\n",
    "    print(\"read data in...\")\n",
    "    data = np.load(FILENAME)\n",
    "    if( LIMIT ):\n",
    "        data = data[:1000]\n",
    "\n",
    "    print(\"read WORD_TO_WEIGHT in...\")\n",
    "    word_to_weight = {}\n",
    "    with open(WORD_TO_WEIGHT, encoding='utf-8') as f:\n",
    "        for line in f:\n",
    "            word = line.split('\\n')[0]\n",
    "            if(word not in word_to_weight):\n",
    "                word_to_weight[word]=1\n",
    "            else:\n",
    "                word_to_weight[word]+=1\n",
    "    dictionary = construct_dictionary(word_to_weight)\n",
    "\n",
    "    print(\"start segementation...\")\n",
    "    word_sentence_list = ws(\n",
    "        data,\n",
    "        sentence_segmentation = True, # To consider delimiters\n",
    "        # segment_delimiter_set = {\",\", \"。\", \":\", \"?\", \"!\", \";\"}), # This is the defualt set of delimiters\n",
    "        # recommend_dictionary = dictionary1, # words in this dictionary are encouraged\n",
    "        # coerce_dictionary = dictionary2, # words in this dictionary are forced\n",
    "    )\n",
    "\n",
    "\n",
    "    print(\"start POS...\")\n",
    "    pos_sentence_list = pos(word_sentence_list)\n",
    "\n",
    "    print(\"start to save the result...\")\n",
    "    savename = \"%s_ws.json\" % FILENAME[:-4]\n",
    "    with open(savename, \"w\") as fp:\n",
    "        json.dump(word_sentence_list, fp)\n",
    "        print(\"save as %s\" % (savename))\n",
    "\n",
    "    savename = \"%s_POS.json\" % FILENAME[:-4]\n",
    "    with open(savename, \"w\") as fp:\n",
    "        json.dump(pos_sentence_list, fp)\n",
    "        print(\"save as %s\" % (savename))"
   ]
  },
  {
   "cell_type": "code",
   "execution_count": null,
   "metadata": {},
   "outputs": [],
   "source": []
  }
 ],
 "metadata": {
  "kernelspec": {
   "display_name": "Python 3",
   "language": "python",
   "name": "python3"
  },
  "language_info": {
   "codemirror_mode": {
    "name": "ipython",
    "version": 3
   },
   "file_extension": ".py",
   "mimetype": "text/x-python",
   "name": "python",
   "nbconvert_exporter": "python",
   "pygments_lexer": "ipython3",
   "version": "3.7.6"
  }
 },
 "nbformat": 4,
 "nbformat_minor": 2
}
